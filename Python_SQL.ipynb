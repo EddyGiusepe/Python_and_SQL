{
  "nbformat": 4,
  "nbformat_minor": 0,
  "metadata": {
    "colab": {
      "name": "Python_SQL.ipynb",
      "provenance": [],
      "authorship_tag": "ABX9TyPuFTciXsPGzRKyc63KA15R",
      "include_colab_link": true
    },
    "kernelspec": {
      "name": "python3",
      "display_name": "Python 3"
    },
    "language_info": {
      "name": "python"
    }
  },
  "cells": [
    {
      "cell_type": "markdown",
      "metadata": {
        "id": "view-in-github",
        "colab_type": "text"
      },
      "source": [
        "<a href=\"https://colab.research.google.com/github/EddyGiusepe/Python_and_SQL/blob/main/Python_SQL.ipynb\" target=\"_parent\"><img src=\"https://colab.research.google.com/assets/colab-badge.svg\" alt=\"Open In Colab\"/></a>"
      ]
    },
    {
      "cell_type": "markdown",
      "metadata": {
        "id": "6gmq6xgX9x8J"
      },
      "source": [
        "# <h2 align='center'>COVID-19</h2>\n",
        "\n",
        "\n",
        "Cientista de Dados Jr: Eddy Giusepe Chirinos Isidro \n",
        "\n",
        "Para a produção deste Script segui os seguinte [vídeo](https://www.youtube.com/watch?v=WKoeBgKC0o0)."
      ]
    },
    {
      "cell_type": "markdown",
      "metadata": {
        "id": "nckPsKyu-EyN"
      },
      "source": [
        "## Bibliotecas necessárias "
      ]
    },
    {
      "cell_type": "code",
      "metadata": {
        "id": "KEH0iZ248Km9"
      },
      "source": [
        "import pandas as pd\n",
        "import sqlalchemy\n",
        "\n"
      ],
      "execution_count": 1,
      "outputs": []
    },
    {
      "cell_type": "code",
      "metadata": {
        "colab": {
          "base_uri": "https://localhost:8080/"
        },
        "id": "DTy2jerP-SFc",
        "outputId": "1666c894-8a72-4741-e23c-c60ad2eb3b85"
      },
      "source": [
        "!pip install pymysql"
      ],
      "execution_count": 3,
      "outputs": [
        {
          "output_type": "stream",
          "text": [
            "Collecting pymysql\n",
            "\u001b[?25l  Downloading https://files.pythonhosted.org/packages/4f/52/a115fe175028b058df353c5a3d5290b71514a83f67078a6482cff24d6137/PyMySQL-1.0.2-py3-none-any.whl (43kB)\n",
            "\r\u001b[K     |███████▌                        | 10kB 15.2MB/s eta 0:00:01\r\u001b[K     |███████████████                 | 20kB 20.1MB/s eta 0:00:01\r\u001b[K     |██████████████████████▍         | 30kB 25.2MB/s eta 0:00:01\r\u001b[K     |██████████████████████████████  | 40kB 15.8MB/s eta 0:00:01\r\u001b[K     |████████████████████████████████| 51kB 5.5MB/s \n",
            "\u001b[?25hInstalling collected packages: pymysql\n",
            "Successfully installed pymysql-1.0.2\n"
          ],
          "name": "stdout"
        }
      ]
    },
    {
      "cell_type": "code",
      "metadata": {
        "id": "WXYdwoIh-XM2"
      },
      "source": [
        ""
      ],
      "execution_count": null,
      "outputs": []
    }
  ]
}